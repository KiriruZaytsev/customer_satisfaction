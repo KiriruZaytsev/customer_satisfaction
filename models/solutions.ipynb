{
 "cells": [
  {
   "cell_type": "markdown",
   "id": "b2d212b3",
   "metadata": {},
   "source": [
    "# Лабораторная работа 3\n",
    "\n",
    "Выполнил студент группы М8О-401Б-20 Зайцев Кирилл"
   ]
  },
  {
   "cell_type": "markdown",
   "id": "12b8f642",
   "metadata": {},
   "source": [
    "## Оценка удовлетворенности полётом пассажира\n",
    "Представлен датасет, в котором хранится информация о полётах пассажиров авиакомпании, а также оценка обслуживания их полёта. Необходимо спрогнозировать, к какому классу относится удовлетворение полётом: положительному или отрицательному"
   ]
  },
  {
   "cell_type": "markdown",
   "id": "170c1aae",
   "metadata": {},
   "source": [
    "Подключим все необходимые библиотеки"
   ]
  },
  {
   "cell_type": "code",
   "execution_count": 1,
   "id": "c557e100",
   "metadata": {},
   "outputs": [],
   "source": [
    "import pandas as pd\n",
    "import numpy as np\n",
    "from sklearn.model_selection import train_test_split\n",
    "from sklearn.linear_model import LogisticRegression\n",
    "from sklearn.preprocessing import OneHotEncoder, LabelEncoder\n",
    "from sklearn.compose import ColumnTransformer\n",
    "from sklearn.preprocessing import StandardScaler\n",
    "from sklearn.pipeline import Pipeline\n",
    "from sklearn.metrics import confusion_matrix, ConfusionMatrixDisplay\n",
    "from sklearn.metrics import precision_score, recall_score, roc_curve, roc_auc_score\n",
    "\n",
    "import matplotlib.pyplot as plt\n",
    "import seaborn as sns"
   ]
  },
  {
   "cell_type": "markdown",
   "id": "f3fa19d3",
   "metadata": {},
   "source": [
    "Посмотрим на данные в датасете:"
   ]
  },
  {
   "cell_type": "code",
   "execution_count": 2,
   "id": "b5fba6fc",
   "metadata": {},
   "outputs": [
    {
     "data": {
      "text/html": [
       "<div>\n",
       "<style scoped>\n",
       "    .dataframe tbody tr th:only-of-type {\n",
       "        vertical-align: middle;\n",
       "    }\n",
       "\n",
       "    .dataframe tbody tr th {\n",
       "        vertical-align: top;\n",
       "    }\n",
       "\n",
       "    .dataframe thead th {\n",
       "        text-align: right;\n",
       "    }\n",
       "</style>\n",
       "<table border=\"1\" class=\"dataframe\">\n",
       "  <thead>\n",
       "    <tr style=\"text-align: right;\">\n",
       "      <th></th>\n",
       "      <th>Unnamed: 0</th>\n",
       "      <th>id</th>\n",
       "      <th>Gender</th>\n",
       "      <th>Customer Type</th>\n",
       "      <th>Age</th>\n",
       "      <th>Type of Travel</th>\n",
       "      <th>Class</th>\n",
       "      <th>Flight Distance</th>\n",
       "      <th>Inflight wifi service</th>\n",
       "      <th>Departure/Arrival time convenient</th>\n",
       "      <th>...</th>\n",
       "      <th>Inflight entertainment</th>\n",
       "      <th>On-board service</th>\n",
       "      <th>Leg room service</th>\n",
       "      <th>Baggage handling</th>\n",
       "      <th>Checkin service</th>\n",
       "      <th>Inflight service</th>\n",
       "      <th>Cleanliness</th>\n",
       "      <th>Departure Delay in Minutes</th>\n",
       "      <th>Arrival Delay in Minutes</th>\n",
       "      <th>satisfaction</th>\n",
       "    </tr>\n",
       "  </thead>\n",
       "  <tbody>\n",
       "    <tr>\n",
       "      <th>0</th>\n",
       "      <td>0</td>\n",
       "      <td>70172</td>\n",
       "      <td>Male</td>\n",
       "      <td>Loyal Customer</td>\n",
       "      <td>13</td>\n",
       "      <td>Personal Travel</td>\n",
       "      <td>Eco Plus</td>\n",
       "      <td>460</td>\n",
       "      <td>3</td>\n",
       "      <td>4</td>\n",
       "      <td>...</td>\n",
       "      <td>5</td>\n",
       "      <td>4</td>\n",
       "      <td>3</td>\n",
       "      <td>4</td>\n",
       "      <td>4</td>\n",
       "      <td>5</td>\n",
       "      <td>5</td>\n",
       "      <td>25</td>\n",
       "      <td>18.0</td>\n",
       "      <td>neutral or dissatisfied</td>\n",
       "    </tr>\n",
       "    <tr>\n",
       "      <th>1</th>\n",
       "      <td>1</td>\n",
       "      <td>5047</td>\n",
       "      <td>Male</td>\n",
       "      <td>disloyal Customer</td>\n",
       "      <td>25</td>\n",
       "      <td>Business travel</td>\n",
       "      <td>Business</td>\n",
       "      <td>235</td>\n",
       "      <td>3</td>\n",
       "      <td>2</td>\n",
       "      <td>...</td>\n",
       "      <td>1</td>\n",
       "      <td>1</td>\n",
       "      <td>5</td>\n",
       "      <td>3</td>\n",
       "      <td>1</td>\n",
       "      <td>4</td>\n",
       "      <td>1</td>\n",
       "      <td>1</td>\n",
       "      <td>6.0</td>\n",
       "      <td>neutral or dissatisfied</td>\n",
       "    </tr>\n",
       "    <tr>\n",
       "      <th>2</th>\n",
       "      <td>2</td>\n",
       "      <td>110028</td>\n",
       "      <td>Female</td>\n",
       "      <td>Loyal Customer</td>\n",
       "      <td>26</td>\n",
       "      <td>Business travel</td>\n",
       "      <td>Business</td>\n",
       "      <td>1142</td>\n",
       "      <td>2</td>\n",
       "      <td>2</td>\n",
       "      <td>...</td>\n",
       "      <td>5</td>\n",
       "      <td>4</td>\n",
       "      <td>3</td>\n",
       "      <td>4</td>\n",
       "      <td>4</td>\n",
       "      <td>4</td>\n",
       "      <td>5</td>\n",
       "      <td>0</td>\n",
       "      <td>0.0</td>\n",
       "      <td>satisfied</td>\n",
       "    </tr>\n",
       "    <tr>\n",
       "      <th>3</th>\n",
       "      <td>3</td>\n",
       "      <td>24026</td>\n",
       "      <td>Female</td>\n",
       "      <td>Loyal Customer</td>\n",
       "      <td>25</td>\n",
       "      <td>Business travel</td>\n",
       "      <td>Business</td>\n",
       "      <td>562</td>\n",
       "      <td>2</td>\n",
       "      <td>5</td>\n",
       "      <td>...</td>\n",
       "      <td>2</td>\n",
       "      <td>2</td>\n",
       "      <td>5</td>\n",
       "      <td>3</td>\n",
       "      <td>1</td>\n",
       "      <td>4</td>\n",
       "      <td>2</td>\n",
       "      <td>11</td>\n",
       "      <td>9.0</td>\n",
       "      <td>neutral or dissatisfied</td>\n",
       "    </tr>\n",
       "    <tr>\n",
       "      <th>4</th>\n",
       "      <td>4</td>\n",
       "      <td>119299</td>\n",
       "      <td>Male</td>\n",
       "      <td>Loyal Customer</td>\n",
       "      <td>61</td>\n",
       "      <td>Business travel</td>\n",
       "      <td>Business</td>\n",
       "      <td>214</td>\n",
       "      <td>3</td>\n",
       "      <td>3</td>\n",
       "      <td>...</td>\n",
       "      <td>3</td>\n",
       "      <td>3</td>\n",
       "      <td>4</td>\n",
       "      <td>4</td>\n",
       "      <td>3</td>\n",
       "      <td>3</td>\n",
       "      <td>3</td>\n",
       "      <td>0</td>\n",
       "      <td>0.0</td>\n",
       "      <td>satisfied</td>\n",
       "    </tr>\n",
       "  </tbody>\n",
       "</table>\n",
       "<p>5 rows × 25 columns</p>\n",
       "</div>"
      ],
      "text/plain": [
       "   Unnamed: 0      id  Gender      Customer Type  Age   Type of Travel  \\\n",
       "0           0   70172    Male     Loyal Customer   13  Personal Travel   \n",
       "1           1    5047    Male  disloyal Customer   25  Business travel   \n",
       "2           2  110028  Female     Loyal Customer   26  Business travel   \n",
       "3           3   24026  Female     Loyal Customer   25  Business travel   \n",
       "4           4  119299    Male     Loyal Customer   61  Business travel   \n",
       "\n",
       "      Class  Flight Distance  Inflight wifi service  \\\n",
       "0  Eco Plus              460                      3   \n",
       "1  Business              235                      3   \n",
       "2  Business             1142                      2   \n",
       "3  Business              562                      2   \n",
       "4  Business              214                      3   \n",
       "\n",
       "   Departure/Arrival time convenient  ...  Inflight entertainment  \\\n",
       "0                                  4  ...                       5   \n",
       "1                                  2  ...                       1   \n",
       "2                                  2  ...                       5   \n",
       "3                                  5  ...                       2   \n",
       "4                                  3  ...                       3   \n",
       "\n",
       "   On-board service  Leg room service  Baggage handling  Checkin service  \\\n",
       "0                 4                 3                 4                4   \n",
       "1                 1                 5                 3                1   \n",
       "2                 4                 3                 4                4   \n",
       "3                 2                 5                 3                1   \n",
       "4                 3                 4                 4                3   \n",
       "\n",
       "   Inflight service  Cleanliness  Departure Delay in Minutes  \\\n",
       "0                 5            5                          25   \n",
       "1                 4            1                           1   \n",
       "2                 4            5                           0   \n",
       "3                 4            2                          11   \n",
       "4                 3            3                           0   \n",
       "\n",
       "   Arrival Delay in Minutes             satisfaction  \n",
       "0                      18.0  neutral or dissatisfied  \n",
       "1                       6.0  neutral or dissatisfied  \n",
       "2                       0.0                satisfied  \n",
       "3                       9.0  neutral or dissatisfied  \n",
       "4                       0.0                satisfied  \n",
       "\n",
       "[5 rows x 25 columns]"
      ]
     },
     "execution_count": 2,
     "metadata": {},
     "output_type": "execute_result"
    }
   ],
   "source": [
    "df_train = pd.read_csv('../data/train.csv')\n",
    "df_train.head()"
   ]
  },
  {
   "cell_type": "code",
   "execution_count": 3,
   "id": "d88bdf34",
   "metadata": {
    "scrolled": false
   },
   "outputs": [
    {
     "data": {
      "text/html": [
       "<div>\n",
       "<style scoped>\n",
       "    .dataframe tbody tr th:only-of-type {\n",
       "        vertical-align: middle;\n",
       "    }\n",
       "\n",
       "    .dataframe tbody tr th {\n",
       "        vertical-align: top;\n",
       "    }\n",
       "\n",
       "    .dataframe thead th {\n",
       "        text-align: right;\n",
       "    }\n",
       "</style>\n",
       "<table border=\"1\" class=\"dataframe\">\n",
       "  <thead>\n",
       "    <tr style=\"text-align: right;\">\n",
       "      <th></th>\n",
       "      <th>Unnamed: 0</th>\n",
       "      <th>id</th>\n",
       "      <th>Gender</th>\n",
       "      <th>Customer Type</th>\n",
       "      <th>Age</th>\n",
       "      <th>Type of Travel</th>\n",
       "      <th>Class</th>\n",
       "      <th>Flight Distance</th>\n",
       "      <th>Inflight wifi service</th>\n",
       "      <th>Departure/Arrival time convenient</th>\n",
       "      <th>...</th>\n",
       "      <th>Inflight entertainment</th>\n",
       "      <th>On-board service</th>\n",
       "      <th>Leg room service</th>\n",
       "      <th>Baggage handling</th>\n",
       "      <th>Checkin service</th>\n",
       "      <th>Inflight service</th>\n",
       "      <th>Cleanliness</th>\n",
       "      <th>Departure Delay in Minutes</th>\n",
       "      <th>Arrival Delay in Minutes</th>\n",
       "      <th>satisfaction</th>\n",
       "    </tr>\n",
       "  </thead>\n",
       "  <tbody>\n",
       "    <tr>\n",
       "      <th>0</th>\n",
       "      <td>0</td>\n",
       "      <td>19556</td>\n",
       "      <td>Female</td>\n",
       "      <td>Loyal Customer</td>\n",
       "      <td>52</td>\n",
       "      <td>Business travel</td>\n",
       "      <td>Eco</td>\n",
       "      <td>160</td>\n",
       "      <td>5</td>\n",
       "      <td>4</td>\n",
       "      <td>...</td>\n",
       "      <td>5</td>\n",
       "      <td>5</td>\n",
       "      <td>5</td>\n",
       "      <td>5</td>\n",
       "      <td>2</td>\n",
       "      <td>5</td>\n",
       "      <td>5</td>\n",
       "      <td>50</td>\n",
       "      <td>44.0</td>\n",
       "      <td>satisfied</td>\n",
       "    </tr>\n",
       "    <tr>\n",
       "      <th>1</th>\n",
       "      <td>1</td>\n",
       "      <td>90035</td>\n",
       "      <td>Female</td>\n",
       "      <td>Loyal Customer</td>\n",
       "      <td>36</td>\n",
       "      <td>Business travel</td>\n",
       "      <td>Business</td>\n",
       "      <td>2863</td>\n",
       "      <td>1</td>\n",
       "      <td>1</td>\n",
       "      <td>...</td>\n",
       "      <td>4</td>\n",
       "      <td>4</td>\n",
       "      <td>4</td>\n",
       "      <td>4</td>\n",
       "      <td>3</td>\n",
       "      <td>4</td>\n",
       "      <td>5</td>\n",
       "      <td>0</td>\n",
       "      <td>0.0</td>\n",
       "      <td>satisfied</td>\n",
       "    </tr>\n",
       "    <tr>\n",
       "      <th>2</th>\n",
       "      <td>2</td>\n",
       "      <td>12360</td>\n",
       "      <td>Male</td>\n",
       "      <td>disloyal Customer</td>\n",
       "      <td>20</td>\n",
       "      <td>Business travel</td>\n",
       "      <td>Eco</td>\n",
       "      <td>192</td>\n",
       "      <td>2</td>\n",
       "      <td>0</td>\n",
       "      <td>...</td>\n",
       "      <td>2</td>\n",
       "      <td>4</td>\n",
       "      <td>1</td>\n",
       "      <td>3</td>\n",
       "      <td>2</td>\n",
       "      <td>2</td>\n",
       "      <td>2</td>\n",
       "      <td>0</td>\n",
       "      <td>0.0</td>\n",
       "      <td>neutral or dissatisfied</td>\n",
       "    </tr>\n",
       "    <tr>\n",
       "      <th>3</th>\n",
       "      <td>3</td>\n",
       "      <td>77959</td>\n",
       "      <td>Male</td>\n",
       "      <td>Loyal Customer</td>\n",
       "      <td>44</td>\n",
       "      <td>Business travel</td>\n",
       "      <td>Business</td>\n",
       "      <td>3377</td>\n",
       "      <td>0</td>\n",
       "      <td>0</td>\n",
       "      <td>...</td>\n",
       "      <td>1</td>\n",
       "      <td>1</td>\n",
       "      <td>1</td>\n",
       "      <td>1</td>\n",
       "      <td>3</td>\n",
       "      <td>1</td>\n",
       "      <td>4</td>\n",
       "      <td>0</td>\n",
       "      <td>6.0</td>\n",
       "      <td>satisfied</td>\n",
       "    </tr>\n",
       "    <tr>\n",
       "      <th>4</th>\n",
       "      <td>4</td>\n",
       "      <td>36875</td>\n",
       "      <td>Female</td>\n",
       "      <td>Loyal Customer</td>\n",
       "      <td>49</td>\n",
       "      <td>Business travel</td>\n",
       "      <td>Eco</td>\n",
       "      <td>1182</td>\n",
       "      <td>2</td>\n",
       "      <td>3</td>\n",
       "      <td>...</td>\n",
       "      <td>2</td>\n",
       "      <td>2</td>\n",
       "      <td>2</td>\n",
       "      <td>2</td>\n",
       "      <td>4</td>\n",
       "      <td>2</td>\n",
       "      <td>4</td>\n",
       "      <td>0</td>\n",
       "      <td>20.0</td>\n",
       "      <td>satisfied</td>\n",
       "    </tr>\n",
       "  </tbody>\n",
       "</table>\n",
       "<p>5 rows × 25 columns</p>\n",
       "</div>"
      ],
      "text/plain": [
       "   Unnamed: 0     id  Gender      Customer Type  Age   Type of Travel  \\\n",
       "0           0  19556  Female     Loyal Customer   52  Business travel   \n",
       "1           1  90035  Female     Loyal Customer   36  Business travel   \n",
       "2           2  12360    Male  disloyal Customer   20  Business travel   \n",
       "3           3  77959    Male     Loyal Customer   44  Business travel   \n",
       "4           4  36875  Female     Loyal Customer   49  Business travel   \n",
       "\n",
       "      Class  Flight Distance  Inflight wifi service  \\\n",
       "0       Eco              160                      5   \n",
       "1  Business             2863                      1   \n",
       "2       Eco              192                      2   \n",
       "3  Business             3377                      0   \n",
       "4       Eco             1182                      2   \n",
       "\n",
       "   Departure/Arrival time convenient  ...  Inflight entertainment  \\\n",
       "0                                  4  ...                       5   \n",
       "1                                  1  ...                       4   \n",
       "2                                  0  ...                       2   \n",
       "3                                  0  ...                       1   \n",
       "4                                  3  ...                       2   \n",
       "\n",
       "   On-board service  Leg room service  Baggage handling  Checkin service  \\\n",
       "0                 5                 5                 5                2   \n",
       "1                 4                 4                 4                3   \n",
       "2                 4                 1                 3                2   \n",
       "3                 1                 1                 1                3   \n",
       "4                 2                 2                 2                4   \n",
       "\n",
       "   Inflight service  Cleanliness  Departure Delay in Minutes  \\\n",
       "0                 5            5                          50   \n",
       "1                 4            5                           0   \n",
       "2                 2            2                           0   \n",
       "3                 1            4                           0   \n",
       "4                 2            4                           0   \n",
       "\n",
       "   Arrival Delay in Minutes             satisfaction  \n",
       "0                      44.0                satisfied  \n",
       "1                       0.0                satisfied  \n",
       "2                       0.0  neutral or dissatisfied  \n",
       "3                       6.0                satisfied  \n",
       "4                      20.0                satisfied  \n",
       "\n",
       "[5 rows x 25 columns]"
      ]
     },
     "execution_count": 3,
     "metadata": {},
     "output_type": "execute_result"
    }
   ],
   "source": [
    "df_test = pd.read_csv('../data/test.csv')\n",
    "df_test.head()"
   ]
  },
  {
   "cell_type": "code",
   "execution_count": 4,
   "id": "f08a6e66",
   "metadata": {},
   "outputs": [],
   "source": [
    "df_train = df_train.drop(df_train.iloc[:, [0, 1]], axis = 1)\n",
    "df_test = df_test.drop(df_test.iloc[:, [0, 1]], axis = 1)"
   ]
  },
  {
   "cell_type": "markdown",
   "id": "bc42a148",
   "metadata": {},
   "source": [
    "Выведем количество пропусков в данных"
   ]
  },
  {
   "cell_type": "code",
   "execution_count": 5,
   "id": "4135a433",
   "metadata": {},
   "outputs": [
    {
     "data": {
      "text/plain": [
       "Gender                                 0\n",
       "Customer Type                          0\n",
       "Age                                    0\n",
       "Type of Travel                         0\n",
       "Class                                  0\n",
       "Flight Distance                        0\n",
       "Inflight wifi service                  0\n",
       "Departure/Arrival time convenient      0\n",
       "Ease of Online booking                 0\n",
       "Gate location                          0\n",
       "Food and drink                         0\n",
       "Online boarding                        0\n",
       "Seat comfort                           0\n",
       "Inflight entertainment                 0\n",
       "On-board service                       0\n",
       "Leg room service                       0\n",
       "Baggage handling                       0\n",
       "Checkin service                        0\n",
       "Inflight service                       0\n",
       "Cleanliness                            0\n",
       "Departure Delay in Minutes             0\n",
       "Arrival Delay in Minutes             310\n",
       "satisfaction                           0\n",
       "dtype: int64"
      ]
     },
     "execution_count": 5,
     "metadata": {},
     "output_type": "execute_result"
    }
   ],
   "source": [
    "df_train.isnull().sum()"
   ]
  },
  {
   "cell_type": "code",
   "execution_count": 6,
   "id": "a85ff176",
   "metadata": {},
   "outputs": [
    {
     "data": {
      "text/plain": [
       "Gender                                0\n",
       "Customer Type                         0\n",
       "Age                                   0\n",
       "Type of Travel                        0\n",
       "Class                                 0\n",
       "Flight Distance                       0\n",
       "Inflight wifi service                 0\n",
       "Departure/Arrival time convenient     0\n",
       "Ease of Online booking                0\n",
       "Gate location                         0\n",
       "Food and drink                        0\n",
       "Online boarding                       0\n",
       "Seat comfort                          0\n",
       "Inflight entertainment                0\n",
       "On-board service                      0\n",
       "Leg room service                      0\n",
       "Baggage handling                      0\n",
       "Checkin service                       0\n",
       "Inflight service                      0\n",
       "Cleanliness                           0\n",
       "Departure Delay in Minutes            0\n",
       "Arrival Delay in Minutes             83\n",
       "satisfaction                          0\n",
       "dtype: int64"
      ]
     },
     "execution_count": 6,
     "metadata": {},
     "output_type": "execute_result"
    }
   ],
   "source": [
    "df_test.isnull().sum()"
   ]
  },
  {
   "cell_type": "markdown",
   "id": "034e7cfe",
   "metadata": {},
   "source": [
    "Посмотрим на типы признаков в датасете: "
   ]
  },
  {
   "cell_type": "code",
   "execution_count": 7,
   "id": "c576db47",
   "metadata": {},
   "outputs": [
    {
     "data": {
      "text/plain": [
       "Gender                                object\n",
       "Customer Type                         object\n",
       "Age                                    int64\n",
       "Type of Travel                        object\n",
       "Class                                 object\n",
       "Flight Distance                        int64\n",
       "Inflight wifi service                  int64\n",
       "Departure/Arrival time convenient      int64\n",
       "Ease of Online booking                 int64\n",
       "Gate location                          int64\n",
       "Food and drink                         int64\n",
       "Online boarding                        int64\n",
       "Seat comfort                           int64\n",
       "Inflight entertainment                 int64\n",
       "On-board service                       int64\n",
       "Leg room service                       int64\n",
       "Baggage handling                       int64\n",
       "Checkin service                        int64\n",
       "Inflight service                       int64\n",
       "Cleanliness                            int64\n",
       "Departure Delay in Minutes             int64\n",
       "Arrival Delay in Minutes             float64\n",
       "satisfaction                          object\n",
       "dtype: object"
      ]
     },
     "execution_count": 7,
     "metadata": {},
     "output_type": "execute_result"
    }
   ],
   "source": [
    "df_train.dtypes"
   ]
  },
  {
   "cell_type": "markdown",
   "id": "0c69b45f",
   "metadata": {},
   "source": [
    "к категориальным относятся: Gender, Customer Type, Type of Travel, Class\n",
    "\n",
    "к порядковым относятся: Inflight wifi service, Departure/Arrival time convenient, Ease of Online booking, Gate location,  Online boarding, Seat comfort, Inflight entertainment, On-board service, Leg room, Baggage handling, Checkin service, Inflight service, Cleanliness. Они представляют собой оценки пассажиров оказанной услуге во время полёта\n",
    "\n",
    "к количественным относятся все остальные"
   ]
  },
  {
   "cell_type": "code",
   "execution_count": 8,
   "id": "6996f167",
   "metadata": {},
   "outputs": [
    {
     "data": {
      "text/plain": [
       "Index(['Gender', 'Customer Type', 'Type of Travel', 'Class', 'satisfaction'], dtype='object')"
      ]
     },
     "execution_count": 8,
     "metadata": {},
     "output_type": "execute_result"
    }
   ],
   "source": [
    "categorical_columns = df_train.select_dtypes(object)\n",
    "categorical_features = categorical_columns.columns\n",
    "categorical_features"
   ]
  },
  {
   "cell_type": "code",
   "execution_count": 9,
   "id": "ab15218f",
   "metadata": {},
   "outputs": [
    {
     "data": {
      "text/plain": [
       "Index(['Inflight wifi service', 'Departure/Arrival time convenient',\n",
       "       'Ease of Online booking', 'Gate location', 'Food and drink',\n",
       "       'Online boarding', 'Seat comfort', 'Inflight entertainment',\n",
       "       'On-board service', 'Leg room service', 'Baggage handling',\n",
       "       'Checkin service', 'Inflight service', 'Cleanliness'],\n",
       "      dtype='object')"
      ]
     },
     "execution_count": 9,
     "metadata": {},
     "output_type": "execute_result"
    }
   ],
   "source": [
    "grades_idx = list(range(6, 20))\n",
    "grades = df_train.iloc[:, grades_idx]\n",
    "grades_features = grades.columns\n",
    "\n",
    "df_train[grades_features] = df_train[grades_features].astype('category')\n",
    "\n",
    "grades_features\n",
    "\n"
   ]
  },
  {
   "cell_type": "code",
   "execution_count": 10,
   "id": "bccba7af",
   "metadata": {},
   "outputs": [
    {
     "data": {
      "text/plain": [
       "Index(['Age', 'Flight Distance', 'Departure Delay in Minutes',\n",
       "       'Arrival Delay in Minutes'],\n",
       "      dtype='object')"
      ]
     },
     "execution_count": 10,
     "metadata": {},
     "output_type": "execute_result"
    }
   ],
   "source": [
    "numeric_data = df_train.select_dtypes(np.number)\n",
    "numeric_features = numeric_data.columns\n",
    "numeric_features"
   ]
  },
  {
   "cell_type": "markdown",
   "id": "845a2222",
   "metadata": {},
   "source": [
    "Проведём разведочный анализ данных в датасете:"
   ]
  },
  {
   "cell_type": "code",
   "execution_count": 11,
   "id": "63d75ed2",
   "metadata": {},
   "outputs": [
    {
     "data": {
      "text/html": [
       "<div>\n",
       "<style scoped>\n",
       "    .dataframe tbody tr th:only-of-type {\n",
       "        vertical-align: middle;\n",
       "    }\n",
       "\n",
       "    .dataframe tbody tr th {\n",
       "        vertical-align: top;\n",
       "    }\n",
       "\n",
       "    .dataframe thead th {\n",
       "        text-align: right;\n",
       "    }\n",
       "</style>\n",
       "<table border=\"1\" class=\"dataframe\">\n",
       "  <thead>\n",
       "    <tr style=\"text-align: right;\">\n",
       "      <th></th>\n",
       "      <th>Age</th>\n",
       "      <th>Flight Distance</th>\n",
       "      <th>Departure Delay in Minutes</th>\n",
       "      <th>Arrival Delay in Minutes</th>\n",
       "    </tr>\n",
       "  </thead>\n",
       "  <tbody>\n",
       "    <tr>\n",
       "      <th>count</th>\n",
       "      <td>103904.000000</td>\n",
       "      <td>103904.000000</td>\n",
       "      <td>103904.000000</td>\n",
       "      <td>103594.000000</td>\n",
       "    </tr>\n",
       "    <tr>\n",
       "      <th>mean</th>\n",
       "      <td>39.379706</td>\n",
       "      <td>1189.448375</td>\n",
       "      <td>14.815618</td>\n",
       "      <td>15.178678</td>\n",
       "    </tr>\n",
       "    <tr>\n",
       "      <th>std</th>\n",
       "      <td>15.114964</td>\n",
       "      <td>997.147281</td>\n",
       "      <td>38.230901</td>\n",
       "      <td>38.698682</td>\n",
       "    </tr>\n",
       "    <tr>\n",
       "      <th>min</th>\n",
       "      <td>7.000000</td>\n",
       "      <td>31.000000</td>\n",
       "      <td>0.000000</td>\n",
       "      <td>0.000000</td>\n",
       "    </tr>\n",
       "    <tr>\n",
       "      <th>25%</th>\n",
       "      <td>27.000000</td>\n",
       "      <td>414.000000</td>\n",
       "      <td>0.000000</td>\n",
       "      <td>0.000000</td>\n",
       "    </tr>\n",
       "    <tr>\n",
       "      <th>50%</th>\n",
       "      <td>40.000000</td>\n",
       "      <td>843.000000</td>\n",
       "      <td>0.000000</td>\n",
       "      <td>0.000000</td>\n",
       "    </tr>\n",
       "    <tr>\n",
       "      <th>75%</th>\n",
       "      <td>51.000000</td>\n",
       "      <td>1743.000000</td>\n",
       "      <td>12.000000</td>\n",
       "      <td>13.000000</td>\n",
       "    </tr>\n",
       "    <tr>\n",
       "      <th>max</th>\n",
       "      <td>85.000000</td>\n",
       "      <td>4983.000000</td>\n",
       "      <td>1592.000000</td>\n",
       "      <td>1584.000000</td>\n",
       "    </tr>\n",
       "  </tbody>\n",
       "</table>\n",
       "</div>"
      ],
      "text/plain": [
       "                 Age  Flight Distance  Departure Delay in Minutes  \\\n",
       "count  103904.000000    103904.000000               103904.000000   \n",
       "mean       39.379706      1189.448375                   14.815618   \n",
       "std        15.114964       997.147281                   38.230901   \n",
       "min         7.000000        31.000000                    0.000000   \n",
       "25%        27.000000       414.000000                    0.000000   \n",
       "50%        40.000000       843.000000                    0.000000   \n",
       "75%        51.000000      1743.000000                   12.000000   \n",
       "max        85.000000      4983.000000                 1592.000000   \n",
       "\n",
       "       Arrival Delay in Minutes  \n",
       "count             103594.000000  \n",
       "mean                  15.178678  \n",
       "std                   38.698682  \n",
       "min                    0.000000  \n",
       "25%                    0.000000  \n",
       "50%                    0.000000  \n",
       "75%                   13.000000  \n",
       "max                 1584.000000  "
      ]
     },
     "execution_count": 11,
     "metadata": {},
     "output_type": "execute_result"
    }
   ],
   "source": [
    "df_train.describe()"
   ]
  },
  {
   "cell_type": "code",
   "execution_count": 12,
   "id": "99f85d82",
   "metadata": {
    "scrolled": false
   },
   "outputs": [
    {
     "data": {
      "text/html": [
       "<div>\n",
       "<style scoped>\n",
       "    .dataframe tbody tr th:only-of-type {\n",
       "        vertical-align: middle;\n",
       "    }\n",
       "\n",
       "    .dataframe tbody tr th {\n",
       "        vertical-align: top;\n",
       "    }\n",
       "\n",
       "    .dataframe thead th {\n",
       "        text-align: right;\n",
       "    }\n",
       "</style>\n",
       "<table border=\"1\" class=\"dataframe\">\n",
       "  <thead>\n",
       "    <tr style=\"text-align: right;\">\n",
       "      <th></th>\n",
       "      <th>Gender</th>\n",
       "      <th>Customer Type</th>\n",
       "      <th>Type of Travel</th>\n",
       "      <th>Class</th>\n",
       "      <th>Inflight wifi service</th>\n",
       "      <th>Departure/Arrival time convenient</th>\n",
       "      <th>Ease of Online booking</th>\n",
       "      <th>Gate location</th>\n",
       "      <th>Food and drink</th>\n",
       "      <th>Online boarding</th>\n",
       "      <th>Seat comfort</th>\n",
       "      <th>Inflight entertainment</th>\n",
       "      <th>On-board service</th>\n",
       "      <th>Leg room service</th>\n",
       "      <th>Baggage handling</th>\n",
       "      <th>Checkin service</th>\n",
       "      <th>Inflight service</th>\n",
       "      <th>Cleanliness</th>\n",
       "      <th>satisfaction</th>\n",
       "    </tr>\n",
       "  </thead>\n",
       "  <tbody>\n",
       "    <tr>\n",
       "      <th>count</th>\n",
       "      <td>103904</td>\n",
       "      <td>103904</td>\n",
       "      <td>103904</td>\n",
       "      <td>103904</td>\n",
       "      <td>103904</td>\n",
       "      <td>103904</td>\n",
       "      <td>103904</td>\n",
       "      <td>103904</td>\n",
       "      <td>103904</td>\n",
       "      <td>103904</td>\n",
       "      <td>103904</td>\n",
       "      <td>103904</td>\n",
       "      <td>103904</td>\n",
       "      <td>103904</td>\n",
       "      <td>103904</td>\n",
       "      <td>103904</td>\n",
       "      <td>103904</td>\n",
       "      <td>103904</td>\n",
       "      <td>103904</td>\n",
       "    </tr>\n",
       "    <tr>\n",
       "      <th>unique</th>\n",
       "      <td>2</td>\n",
       "      <td>2</td>\n",
       "      <td>2</td>\n",
       "      <td>3</td>\n",
       "      <td>6</td>\n",
       "      <td>6</td>\n",
       "      <td>6</td>\n",
       "      <td>6</td>\n",
       "      <td>6</td>\n",
       "      <td>6</td>\n",
       "      <td>6</td>\n",
       "      <td>6</td>\n",
       "      <td>6</td>\n",
       "      <td>6</td>\n",
       "      <td>5</td>\n",
       "      <td>6</td>\n",
       "      <td>6</td>\n",
       "      <td>6</td>\n",
       "      <td>2</td>\n",
       "    </tr>\n",
       "    <tr>\n",
       "      <th>top</th>\n",
       "      <td>Female</td>\n",
       "      <td>Loyal Customer</td>\n",
       "      <td>Business travel</td>\n",
       "      <td>Business</td>\n",
       "      <td>3</td>\n",
       "      <td>4</td>\n",
       "      <td>3</td>\n",
       "      <td>3</td>\n",
       "      <td>4</td>\n",
       "      <td>4</td>\n",
       "      <td>4</td>\n",
       "      <td>4</td>\n",
       "      <td>4</td>\n",
       "      <td>4</td>\n",
       "      <td>4</td>\n",
       "      <td>4</td>\n",
       "      <td>4</td>\n",
       "      <td>4</td>\n",
       "      <td>neutral or dissatisfied</td>\n",
       "    </tr>\n",
       "    <tr>\n",
       "      <th>freq</th>\n",
       "      <td>52727</td>\n",
       "      <td>84923</td>\n",
       "      <td>71655</td>\n",
       "      <td>49665</td>\n",
       "      <td>25868</td>\n",
       "      <td>25546</td>\n",
       "      <td>24449</td>\n",
       "      <td>28577</td>\n",
       "      <td>24359</td>\n",
       "      <td>30762</td>\n",
       "      <td>31765</td>\n",
       "      <td>29423</td>\n",
       "      <td>30867</td>\n",
       "      <td>28789</td>\n",
       "      <td>37383</td>\n",
       "      <td>29055</td>\n",
       "      <td>37945</td>\n",
       "      <td>27179</td>\n",
       "      <td>58879</td>\n",
       "    </tr>\n",
       "  </tbody>\n",
       "</table>\n",
       "</div>"
      ],
      "text/plain": [
       "        Gender   Customer Type   Type of Travel     Class  \\\n",
       "count   103904          103904           103904    103904   \n",
       "unique       2               2                2         3   \n",
       "top     Female  Loyal Customer  Business travel  Business   \n",
       "freq     52727           84923            71655     49665   \n",
       "\n",
       "        Inflight wifi service  Departure/Arrival time convenient  \\\n",
       "count                  103904                             103904   \n",
       "unique                      6                                  6   \n",
       "top                         3                                  4   \n",
       "freq                    25868                              25546   \n",
       "\n",
       "        Ease of Online booking  Gate location  Food and drink  \\\n",
       "count                   103904         103904          103904   \n",
       "unique                       6              6               6   \n",
       "top                          3              3               4   \n",
       "freq                     24449          28577           24359   \n",
       "\n",
       "        Online boarding  Seat comfort  Inflight entertainment  \\\n",
       "count            103904        103904                  103904   \n",
       "unique                6             6                       6   \n",
       "top                   4             4                       4   \n",
       "freq              30762         31765                   29423   \n",
       "\n",
       "        On-board service  Leg room service  Baggage handling  Checkin service  \\\n",
       "count             103904            103904            103904           103904   \n",
       "unique                 6                 6                 5                6   \n",
       "top                    4                 4                 4                4   \n",
       "freq               30867             28789             37383            29055   \n",
       "\n",
       "        Inflight service  Cleanliness             satisfaction  \n",
       "count             103904       103904                   103904  \n",
       "unique                 6            6                        2  \n",
       "top                    4            4  neutral or dissatisfied  \n",
       "freq               37945        27179                    58879  "
      ]
     },
     "execution_count": 12,
     "metadata": {},
     "output_type": "execute_result"
    }
   ],
   "source": [
    "df_train.describe(include = ['object', 'category'])"
   ]
  },
  {
   "cell_type": "code",
   "execution_count": 13,
   "id": "05f6f8e3",
   "metadata": {},
   "outputs": [
    {
     "data": {
      "text/plain": [
       "<Axes: >"
      ]
     },
     "execution_count": 13,
     "metadata": {},
     "output_type": "execute_result"
    },
    {
     "data": {
      "image/png": "[encoded data removed]",
      "text/plain": [
       "<Figure size 640x480 with 2 Axes>"
      ]
     },
     "metadata": {},
     "output_type": "display_data"
    }
   ],
   "source": [
    "corr = df_train.corr(numeric_only=True)\n",
    "sns.heatmap(corr)"
   ]
  },
  {
   "cell_type": "markdown",
   "id": "8c678bfe",
   "metadata": {},
   "source": [
    "Заметна сильная корреляция между задержкой вылета и задержкой прибытия, что выглядит логично"
   ]
  },
  {
   "cell_type": "code",
   "execution_count": 14,
   "id": "8de336a6",
   "metadata": {},
   "outputs": [
    {
     "data": {
      "text/plain": [
       "([<matplotlib.patches.Wedge at 0x1356bc02990>,\n",
       "  <matplotlib.patches.Wedge at 0x1356bd469d0>],\n",
       " [Text(-0.22870506272227167, 1.0759618925804026, 'Neutral or dissatisfied'),\n",
       "  Text(0.228705062722272, -1.0759618925804026, 'Satisfied')],\n",
       " [Text(-0.12474821603032998, 0.5868883050438559, '56.7%'),\n",
       "  Text(0.12474821603033018, -0.5868883050438559, '43.3%')])"
      ]
     },
     "execution_count": 14,
     "metadata": {},
     "output_type": "execute_result"
    },
    {
     "data": {
      "image/png": "[encoded data removed]",
      "text/plain": [
       "<Figure size 640x480 with 1 Axes>"
      ]
     },
     "metadata": {},
     "output_type": "display_data"
    }
   ],
   "source": [
    "plt.pie(df_train.satisfaction.value_counts(), labels = [\"Neutral or dissatisfied\", \"Satisfied\"], autopct = '%1.1f%%')"
   ]
  },
  {
   "cell_type": "markdown",
   "id": "7c182b76",
   "metadata": {},
   "source": [
    "Как мы видим, нет сильного дисбаланса классов в выборке, что очень хорошо"
   ]
  },
  {
   "cell_type": "markdown",
   "id": "c715dd27",
   "metadata": {},
   "source": [
    "Построим гистограммы зависимости вида полёта и дальности полёта для каждого из классов полёта"
   ]
  },
  {
   "cell_type": "code",
   "execution_count": 15,
   "id": "a5c0b272",
   "metadata": {},
   "outputs": [
    {
     "name": "stderr",
     "output_type": "stream",
     "text": [
      "C:\\ProgramData\\anaconda3\\Lib\\site-packages\\seaborn\\axisgrid.py:118: UserWarning: The figure layout has changed to tight\n",
      "  self._figure.tight_layout(*args, **kwargs)\n"
     ]
    },
    {
     "data": {
      "image/png": "[encoded data removed]",
      "text/plain": [
       "<Figure size 1261.62x450 with 3 Axes>"
      ]
     },
     "metadata": {},
     "output_type": "display_data"
    }
   ],
   "source": [
    "with sns.axes_style('white'):\n",
    "    g = sns.catplot(x=\"Flight Distance\", y=\"Type of Travel\", hue=\"satisfaction\", col=\"Class\", data=df_train, kind=\"bar\", height=4.5, aspect=.8)"
   ]
  },
  {
   "cell_type": "markdown",
   "id": "9afed09c",
   "metadata": {},
   "source": [
    "Теперь посмотрим, как оценки по каждому показателю влияют на удовлетворённость:"
   ]
  },
  {
   "cell_type": "code",
   "execution_count": 16,
   "id": "81b12f09",
   "metadata": {},
   "outputs": [
    {
     "data": {
      "image/png": "[encoded data removed]",
      "text/plain": [
       "<Figure size 640x480 with 1 Axes>"
      ]
     },
     "metadata": {},
     "output_type": "display_data"
    }
   ],
   "source": [
    "sns.countplot(x = 'Inflight wifi service', hue = 'satisfaction', data = df_train)\n",
    "plt.show()"
   ]
  },
  {
   "cell_type": "code",
   "execution_count": 17,
   "id": "f05b581a",
   "metadata": {},
   "outputs": [
    {
     "data": {
      "image/png": "[encoded data removed]",
      "text/plain": [
       "<Figure size 640x480 with 1 Axes>"
      ]
     },
     "metadata": {},
     "output_type": "display_data"
    }
   ],
   "source": [
    "sns.countplot(x = 'Departure/Arrival time convenient', hue = 'satisfaction', data = df_train)\n",
    "plt.show()"
   ]
  },
  {
   "cell_type": "code",
   "execution_count": 18,
   "id": "49fbd529",
   "metadata": {},
   "outputs": [
    {
     "data": {
      "image/png": "[encoded data removed]",
      "text/plain": [
       "<Figure size 640x480 with 1 Axes>"
      ]
     },
     "metadata": {},
     "output_type": "display_data"
    }
   ],
   "source": [
    "sns.countplot(x = 'Ease of Online booking', hue = 'satisfaction', data = df_train)\n",
    "plt.show()"
   ]
  },
  {
   "cell_type": "code",
   "execution_count": 19,
   "id": "0d8be033",
   "metadata": {},
   "outputs": [
    {
     "data": {
      "image/png": "[encoded data removed]",
      "text/plain": [
       "<Figure size 640x480 with 1 Axes>"
      ]
     },
     "metadata": {},
     "output_type": "display_data"
    }
   ],
   "source": [
    "sns.countplot(x = 'Gate location', hue = 'satisfaction', data = df_train)\n",
    "plt.show()"
   ]
  },
  {
   "cell_type": "code",
   "execution_count": 20,
   "id": "056d087a",
   "metadata": {},
   "outputs": [
    {
     "data": {
      "image/png": "[encoded data removed]",
      "text/plain": [
       "<Figure size 640x480 with 1 Axes>"
      ]
     },
     "metadata": {},
     "output_type": "display_data"
    }
   ],
   "source": [
    "sns.countplot(x = 'Food and drink', hue = 'satisfaction', data = df_train)\n",
    "plt.show()"
   ]
  },
  {
   "cell_type": "code",
   "execution_count": 21,
   "id": "ca187014",
   "metadata": {},
   "outputs": [
    {
     "data": {
      "image/png": "[encoded data removed]",
      "text/plain": [
       "<Figure size 640x480 with 1 Axes>"
      ]
     },
     "metadata": {},
     "output_type": "display_data"
    }
   ],
   "source": [
    "sns.countplot(x = 'Seat comfort', hue = 'satisfaction', data = df_train)\n",
    "plt.show()"
   ]
  },
  {
   "cell_type": "code",
   "execution_count": 22,
   "id": "767bb1a3",
   "metadata": {},
   "outputs": [
    {
     "data": {
      "image/png": "[encoded data removed]",
      "text/plain": [
       "<Figure size 640x480 with 1 Axes>"
      ]
     },
     "metadata": {},
     "output_type": "display_data"
    }
   ],
   "source": [
    "sns.countplot(x = 'Inflight entertainment', hue = 'satisfaction', data = df_train)\n",
    "plt.show()"
   ]
  },
  {
   "cell_type": "code",
   "execution_count": 23,
   "id": "1ced7344",
   "metadata": {},
   "outputs": [
    {
     "data": {
      "image/png": "[encoded data removed]",
      "text/plain": [
       "<Figure size 640x480 with 1 Axes>"
      ]
     },
     "metadata": {},
     "output_type": "display_data"
    }
   ],
   "source": [
    "sns.countplot(x = 'On-board service', hue = 'satisfaction', data = df_train)\n",
    "plt.show()"
   ]
  },
  {
   "cell_type": "code",
   "execution_count": 24,
   "id": "ccfdfc43",
   "metadata": {},
   "outputs": [
    {
     "data": {
      "image/png": "[encoded data removed]",
      "text/plain": [
       "<Figure size 640x480 with 1 Axes>"
      ]
     },
     "metadata": {},
     "output_type": "display_data"
    }
   ],
   "source": [
    "sns.countplot(x = 'Leg room service', hue = 'satisfaction', data = df_train)\n",
    "plt.show()"
   ]
  },
  {
   "cell_type": "code",
   "execution_count": 25,
   "id": "50e02e38",
   "metadata": {},
   "outputs": [
    {
     "data": {
      "image/png": "[encoded data removed]",
      "text/plain": [
       "<Figure size 640x480 with 1 Axes>"
      ]
     },
     "metadata": {},
     "output_type": "display_data"
    }
   ],
   "source": [
    "sns.countplot(x = 'Baggage handling', hue = 'satisfaction', data = df_train)\n",
    "plt.show()"
   ]
  },
  {
   "cell_type": "code",
   "execution_count": 26,
   "id": "6a8379d3",
   "metadata": {},
   "outputs": [
    {
     "data": {
      "image/png": "[encoded data removed]",
      "text/plain": [
       "<Figure size 640x480 with 1 Axes>"
      ]
     },
     "metadata": {},
     "output_type": "display_data"
    }
   ],
   "source": [
    "sns.countplot(x = 'Inflight service', hue = 'satisfaction', data = df_train)\n",
    "plt.show()"
   ]
  },
  {
   "cell_type": "code",
   "execution_count": 27,
   "id": "8ce0dae3",
   "metadata": {
    "scrolled": false
   },
   "outputs": [
    {
     "data": {
      "image/png": "[encoded data removed]",
      "text/plain": [
       "<Figure size 640x480 with 1 Axes>"
      ]
     },
     "metadata": {},
     "output_type": "display_data"
    }
   ],
   "source": [
    "sns.countplot(x = 'Cleanliness', hue = 'satisfaction', data = df_train)\n",
    "plt.show()"
   ]
  },
  {
   "cell_type": "markdown",
   "id": "26fc7ce6",
   "metadata": {},
   "source": [
    "В столбце \"Arrival Delay in Minutes\" есть пропуски. Заполним их медианным значением задержки:"
   ]
  },
  {
   "cell_type": "code",
   "execution_count": 28,
   "id": "616928a8",
   "metadata": {},
   "outputs": [],
   "source": [
    "df_train['Arrival Delay in Minutes'] = df_train['Arrival Delay in Minutes'].fillna(df_train['Arrival Delay in Minutes'].mode()[0])\n",
    "df_test['Arrival Delay in Minutes'] = df_test['Arrival Delay in Minutes'].fillna(df_test['Arrival Delay in Minutes'].mode()[0])"
   ]
  },
  {
   "cell_type": "code",
   "execution_count": 29,
   "id": "dff0921d",
   "metadata": {},
   "outputs": [
    {
     "data": {
      "text/plain": [
       "Gender                               0\n",
       "Customer Type                        0\n",
       "Age                                  0\n",
       "Type of Travel                       0\n",
       "Class                                0\n",
       "Flight Distance                      0\n",
       "Inflight wifi service                0\n",
       "Departure/Arrival time convenient    0\n",
       "Ease of Online booking               0\n",
       "Gate location                        0\n",
       "Food and drink                       0\n",
       "Online boarding                      0\n",
       "Seat comfort                         0\n",
       "Inflight entertainment               0\n",
       "On-board service                     0\n",
       "Leg room service                     0\n",
       "Baggage handling                     0\n",
       "Checkin service                      0\n",
       "Inflight service                     0\n",
       "Cleanliness                          0\n",
       "Departure Delay in Minutes           0\n",
       "Arrival Delay in Minutes             0\n",
       "satisfaction                         0\n",
       "dtype: int64"
      ]
     },
     "execution_count": 29,
     "metadata": {},
     "output_type": "execute_result"
    }
   ],
   "source": [
    "df_train.isnull().sum()"
   ]
  },
  {
   "cell_type": "code",
   "execution_count": 30,
   "id": "8e749a32",
   "metadata": {},
   "outputs": [
    {
     "data": {
      "text/plain": [
       "Gender                               0\n",
       "Customer Type                        0\n",
       "Age                                  0\n",
       "Type of Travel                       0\n",
       "Class                                0\n",
       "Flight Distance                      0\n",
       "Inflight wifi service                0\n",
       "Departure/Arrival time convenient    0\n",
       "Ease of Online booking               0\n",
       "Gate location                        0\n",
       "Food and drink                       0\n",
       "Online boarding                      0\n",
       "Seat comfort                         0\n",
       "Inflight entertainment               0\n",
       "On-board service                     0\n",
       "Leg room service                     0\n",
       "Baggage handling                     0\n",
       "Checkin service                      0\n",
       "Inflight service                     0\n",
       "Cleanliness                          0\n",
       "Departure Delay in Minutes           0\n",
       "Arrival Delay in Minutes             0\n",
       "satisfaction                         0\n",
       "dtype: int64"
      ]
     },
     "execution_count": 30,
     "metadata": {},
     "output_type": "execute_result"
    }
   ],
   "source": [
    "df_test.isnull().sum()"
   ]
  },
  {
   "cell_type": "markdown",
   "id": "de0df67e",
   "metadata": {},
   "source": [
    "## Метрики качества. \n",
    "Для бинарной классификации классическими метриками качества являются: Precision(точность), Recall(полнота) и AUC-ROC."
   ]
  },
  {
   "cell_type": "markdown",
   "id": "44013a04",
   "metadata": {},
   "source": [
    "Выделим таргет из нашего датасета:"
   ]
  },
  {
   "cell_type": "code",
   "execution_count": 31,
   "id": "02d02df3",
   "metadata": {},
   "outputs": [
    {
     "data": {
      "text/plain": [
       "Index(['Gender', 'Customer Type', 'Type of Travel', 'Class'], dtype='object')"
      ]
     },
     "execution_count": 31,
     "metadata": {},
     "output_type": "execute_result"
    }
   ],
   "source": [
    "X_train = df_train.drop(columns = ['satisfaction'])\n",
    "y_train = df_train['satisfaction'].apply(lambda x: 1 if x == 'satisfied' else 0)\n",
    "X_test = df_test.drop(columns = ['satisfaction'])\n",
    "y_test = df_test['satisfaction'].apply(lambda x: 1 if x == 'satisfied' else 0)\n",
    "categorical_features = categorical_features.drop('satisfaction')\n",
    "categorical_features"
   ]
  },
  {
   "cell_type": "code",
   "execution_count": 32,
   "id": "517a683a",
   "metadata": {},
   "outputs": [
    {
     "data": {
      "text/plain": [
       "(103904, 22)"
      ]
     },
     "execution_count": 32,
     "metadata": {},
     "output_type": "execute_result"
    }
   ],
   "source": [
    "X_train.shape"
   ]
  },
  {
   "cell_type": "code",
   "execution_count": 33,
   "id": "acd3759d",
   "metadata": {},
   "outputs": [
    {
     "data": {
      "text/plain": [
       "(25976, 22)"
      ]
     },
     "execution_count": 33,
     "metadata": {},
     "output_type": "execute_result"
    }
   ],
   "source": [
    "X_test.shape"
   ]
  },
  {
   "cell_type": "code",
   "execution_count": 34,
   "id": "48d291ca",
   "metadata": {},
   "outputs": [
    {
     "data": {
      "text/html": [
       "<div>\n",
       "<style scoped>\n",
       "    .dataframe tbody tr th:only-of-type {\n",
       "        vertical-align: middle;\n",
       "    }\n",
       "\n",
       "    .dataframe tbody tr th {\n",
       "        vertical-align: top;\n",
       "    }\n",
       "\n",
       "    .dataframe thead th {\n",
       "        text-align: right;\n",
       "    }\n",
       "</style>\n",
       "<table border=\"1\" class=\"dataframe\">\n",
       "  <thead>\n",
       "    <tr style=\"text-align: right;\">\n",
       "      <th></th>\n",
       "      <th>Gender</th>\n",
       "      <th>Customer Type</th>\n",
       "      <th>Age</th>\n",
       "      <th>Type of Travel</th>\n",
       "      <th>Class</th>\n",
       "      <th>Flight Distance</th>\n",
       "      <th>Inflight wifi service</th>\n",
       "      <th>Departure/Arrival time convenient</th>\n",
       "      <th>Ease of Online booking</th>\n",
       "      <th>Gate location</th>\n",
       "      <th>...</th>\n",
       "      <th>Seat comfort</th>\n",
       "      <th>Inflight entertainment</th>\n",
       "      <th>On-board service</th>\n",
       "      <th>Leg room service</th>\n",
       "      <th>Baggage handling</th>\n",
       "      <th>Checkin service</th>\n",
       "      <th>Inflight service</th>\n",
       "      <th>Cleanliness</th>\n",
       "      <th>Departure Delay in Minutes</th>\n",
       "      <th>Arrival Delay in Minutes</th>\n",
       "    </tr>\n",
       "  </thead>\n",
       "  <tbody>\n",
       "    <tr>\n",
       "      <th>0</th>\n",
       "      <td>Male</td>\n",
       "      <td>Loyal Customer</td>\n",
       "      <td>13</td>\n",
       "      <td>Personal Travel</td>\n",
       "      <td>Eco Plus</td>\n",
       "      <td>460</td>\n",
       "      <td>3</td>\n",
       "      <td>4</td>\n",
       "      <td>3</td>\n",
       "      <td>1</td>\n",
       "      <td>...</td>\n",
       "      <td>5</td>\n",
       "      <td>5</td>\n",
       "      <td>4</td>\n",
       "      <td>3</td>\n",
       "      <td>4</td>\n",
       "      <td>4</td>\n",
       "      <td>5</td>\n",
       "      <td>5</td>\n",
       "      <td>25</td>\n",
       "      <td>18.0</td>\n",
       "    </tr>\n",
       "    <tr>\n",
       "      <th>1</th>\n",
       "      <td>Male</td>\n",
       "      <td>disloyal Customer</td>\n",
       "      <td>25</td>\n",
       "      <td>Business travel</td>\n",
       "      <td>Business</td>\n",
       "      <td>235</td>\n",
       "      <td>3</td>\n",
       "      <td>2</td>\n",
       "      <td>3</td>\n",
       "      <td>3</td>\n",
       "      <td>...</td>\n",
       "      <td>1</td>\n",
       "      <td>1</td>\n",
       "      <td>1</td>\n",
       "      <td>5</td>\n",
       "      <td>3</td>\n",
       "      <td>1</td>\n",
       "      <td>4</td>\n",
       "      <td>1</td>\n",
       "      <td>1</td>\n",
       "      <td>6.0</td>\n",
       "    </tr>\n",
       "    <tr>\n",
       "      <th>2</th>\n",
       "      <td>Female</td>\n",
       "      <td>Loyal Customer</td>\n",
       "      <td>26</td>\n",
       "      <td>Business travel</td>\n",
       "      <td>Business</td>\n",
       "      <td>1142</td>\n",
       "      <td>2</td>\n",
       "      <td>2</td>\n",
       "      <td>2</td>\n",
       "      <td>2</td>\n",
       "      <td>...</td>\n",
       "      <td>5</td>\n",
       "      <td>5</td>\n",
       "      <td>4</td>\n",
       "      <td>3</td>\n",
       "      <td>4</td>\n",
       "      <td>4</td>\n",
       "      <td>4</td>\n",
       "      <td>5</td>\n",
       "      <td>0</td>\n",
       "      <td>0.0</td>\n",
       "    </tr>\n",
       "    <tr>\n",
       "      <th>3</th>\n",
       "      <td>Female</td>\n",
       "      <td>Loyal Customer</td>\n",
       "      <td>25</td>\n",
       "      <td>Business travel</td>\n",
       "      <td>Business</td>\n",
       "      <td>562</td>\n",
       "      <td>2</td>\n",
       "      <td>5</td>\n",
       "      <td>5</td>\n",
       "      <td>5</td>\n",
       "      <td>...</td>\n",
       "      <td>2</td>\n",
       "      <td>2</td>\n",
       "      <td>2</td>\n",
       "      <td>5</td>\n",
       "      <td>3</td>\n",
       "      <td>1</td>\n",
       "      <td>4</td>\n",
       "      <td>2</td>\n",
       "      <td>11</td>\n",
       "      <td>9.0</td>\n",
       "    </tr>\n",
       "    <tr>\n",
       "      <th>4</th>\n",
       "      <td>Male</td>\n",
       "      <td>Loyal Customer</td>\n",
       "      <td>61</td>\n",
       "      <td>Business travel</td>\n",
       "      <td>Business</td>\n",
       "      <td>214</td>\n",
       "      <td>3</td>\n",
       "      <td>3</td>\n",
       "      <td>3</td>\n",
       "      <td>3</td>\n",
       "      <td>...</td>\n",
       "      <td>5</td>\n",
       "      <td>3</td>\n",
       "      <td>3</td>\n",
       "      <td>4</td>\n",
       "      <td>4</td>\n",
       "      <td>3</td>\n",
       "      <td>3</td>\n",
       "      <td>3</td>\n",
       "      <td>0</td>\n",
       "      <td>0.0</td>\n",
       "    </tr>\n",
       "  </tbody>\n",
       "</table>\n",
       "<p>5 rows × 22 columns</p>\n",
       "</div>"
      ],
      "text/plain": [
       "   Gender      Customer Type  Age   Type of Travel     Class  Flight Distance  \\\n",
       "0    Male     Loyal Customer   13  Personal Travel  Eco Plus              460   \n",
       "1    Male  disloyal Customer   25  Business travel  Business              235   \n",
       "2  Female     Loyal Customer   26  Business travel  Business             1142   \n",
       "3  Female     Loyal Customer   25  Business travel  Business              562   \n",
       "4    Male     Loyal Customer   61  Business travel  Business              214   \n",
       "\n",
       "  Inflight wifi service Departure/Arrival time convenient  \\\n",
       "0                     3                                 4   \n",
       "1                     3                                 2   \n",
       "2                     2                                 2   \n",
       "3                     2                                 5   \n",
       "4                     3                                 3   \n",
       "\n",
       "  Ease of Online booking Gate location  ... Seat comfort  \\\n",
       "0                      3             1  ...            5   \n",
       "1                      3             3  ...            1   \n",
       "2                      2             2  ...            5   \n",
       "3                      5             5  ...            2   \n",
       "4                      3             3  ...            5   \n",
       "\n",
       "  Inflight entertainment On-board service Leg room service Baggage handling  \\\n",
       "0                      5                4                3                4   \n",
       "1                      1                1                5                3   \n",
       "2                      5                4                3                4   \n",
       "3                      2                2                5                3   \n",
       "4                      3                3                4                4   \n",
       "\n",
       "  Checkin service Inflight service Cleanliness Departure Delay in Minutes  \\\n",
       "0               4                5           5                         25   \n",
       "1               1                4           1                          1   \n",
       "2               4                4           5                          0   \n",
       "3               1                4           2                         11   \n",
       "4               3                3           3                          0   \n",
       "\n",
       "  Arrival Delay in Minutes  \n",
       "0                     18.0  \n",
       "1                      6.0  \n",
       "2                      0.0  \n",
       "3                      9.0  \n",
       "4                      0.0  \n",
       "\n",
       "[5 rows x 22 columns]"
      ]
     },
     "execution_count": 34,
     "metadata": {},
     "output_type": "execute_result"
    }
   ],
   "source": [
    "X_train.head()"
   ]
  },
  {
   "cell_type": "markdown",
   "id": "fb322dd9",
   "metadata": {},
   "source": [
    "## Оценка константным предиктором"
   ]
  },
  {
   "cell_type": "markdown",
   "id": "9146b73b",
   "metadata": {},
   "source": [
    "Будем всегда считать, что пассажир остался удовлетворён своим полётом. Посмотрим на метрики качества и матрицу ошибки:"
   ]
  },
  {
   "cell_type": "code",
   "execution_count": 35,
   "id": "4217282b",
   "metadata": {},
   "outputs": [],
   "source": [
    "y_true = y_train.to_numpy()\n",
    "y_pred = np.ones_like(y_train)"
   ]
  },
  {
   "cell_type": "code",
   "execution_count": 36,
   "id": "bae33e69",
   "metadata": {},
   "outputs": [
    {
     "data": {
      "text/plain": [
       "<sklearn.metrics._plot.confusion_matrix.ConfusionMatrixDisplay at 0x1356f135810>"
      ]
     },
     "execution_count": 36,
     "metadata": {},
     "output_type": "execute_result"
    },
    {
     "data": {
      "image/png": "[encoded data removed]",
      "text/plain": [
       "<Figure size 640x480 with 2 Axes>"
      ]
     },
     "metadata": {},
     "output_type": "display_data"
    }
   ],
   "source": [
    "cm = confusion_matrix(y_true, y_pred)\n",
    "disp = ConfusionMatrixDisplay(confusion_matrix=cm, display_labels=[0, 1])\n",
    "disp.plot()"
   ]
  },
  {
   "cell_type": "code",
   "execution_count": 37,
   "id": "914552bc",
   "metadata": {},
   "outputs": [
    {
     "data": {
      "text/plain": [
       "0.43333269171542965"
      ]
     },
     "execution_count": 37,
     "metadata": {},
     "output_type": "execute_result"
    }
   ],
   "source": [
    "precision = precision_score(y_true, y_pred)\n",
    "precision"
   ]
  },
  {
   "cell_type": "code",
   "execution_count": 38,
   "id": "a1982c1e",
   "metadata": {},
   "outputs": [
    {
     "data": {
      "text/plain": [
       "1.0"
      ]
     },
     "execution_count": 38,
     "metadata": {},
     "output_type": "execute_result"
    }
   ],
   "source": [
    "recall = recall_score(y_true, y_pred)\n",
    "recall"
   ]
  },
  {
   "cell_type": "code",
   "execution_count": 39,
   "id": "bbb69935",
   "metadata": {},
   "outputs": [],
   "source": [
    "TPR, FPR, threshold = roc_curve(y_true, y_pred)"
   ]
  },
  {
   "cell_type": "code",
   "execution_count": 40,
   "id": "e5682958",
   "metadata": {},
   "outputs": [
    {
     "data": {
      "image/png": "[encoded data removed]",
      "text/plain": [
       "<Figure size 640x480 with 1 Axes>"
      ]
     },
     "metadata": {},
     "output_type": "display_data"
    }
   ],
   "source": [
    "plt.plot(TPR, FPR)\n",
    "plt.show()"
   ]
  },
  {
   "cell_type": "code",
   "execution_count": 41,
   "id": "bcbceb61",
   "metadata": {},
   "outputs": [
    {
     "data": {
      "text/plain": [
       "0.5"
      ]
     },
     "execution_count": 41,
     "metadata": {},
     "output_type": "execute_result"
    }
   ],
   "source": [
    "roc_auc = roc_auc_score(y_true, y_pred)\n",
    "roc_auc"
   ]
  },
  {
   "cell_type": "markdown",
   "id": "c90e8961",
   "metadata": {},
   "source": [
    "Как мы видим Precision очень низкий, но Recall высокий, действительно, мы просто не могли упустить ни одной TP метки, потому что всегда предсказывали Positive. Этим и плохи данные метрики. AUC-ROC = 0.5. То есть наша модель случайна. Это тоже плохой результат"
   ]
  },
  {
   "cell_type": "markdown",
   "id": "b4051cd1",
   "metadata": {},
   "source": [
    "## Логистическая регрессия\n",
    "\n",
    "Теперь обучим модель логистической регрессии и понаблюдаем за тем, как изменились наши метрики"
   ]
  },
  {
   "cell_type": "code",
   "execution_count": 42,
   "id": "671ae9e3",
   "metadata": {},
   "outputs": [],
   "source": [
    "ct = ColumnTransformer([\n",
    "    ('ohe', OneHotEncoder(), categorical_features),\n",
    "    ('ohe2', OneHotEncoder(), grades_features),\n",
    "    ('scaler', StandardScaler(), numeric_features)\n",
    "])\n",
    "\n",
    "X_train_lin = ct.fit_transform(X_train)\n",
    "X_test_lin = ct.transform(X_test)"
   ]
  },
  {
   "cell_type": "code",
   "execution_count": 43,
   "id": "f4227899",
   "metadata": {},
   "outputs": [],
   "source": [
    "model = LogisticRegression(max_iter = 1000)\n",
    "model.fit(X_train_lin, y_train)\n",
    "y_pred = model.predict(X_test_lin)"
   ]
  },
  {
   "cell_type": "code",
   "execution_count": 44,
   "id": "86437af6",
   "metadata": {},
   "outputs": [
    {
     "data": {
      "text/plain": [
       "0.9312751677852349"
      ]
     },
     "execution_count": 44,
     "metadata": {},
     "output_type": "execute_result"
    }
   ],
   "source": [
    "precision = precision_score(y_test, y_pred)\n",
    "precision"
   ]
  },
  {
   "cell_type": "code",
   "execution_count": 45,
   "id": "62019c8c",
   "metadata": {},
   "outputs": [
    {
     "data": {
      "text/plain": [
       "0.9126545645882662"
      ]
     },
     "execution_count": 45,
     "metadata": {},
     "output_type": "execute_result"
    }
   ],
   "source": [
    "recall = recall_score(y_test, y_pred)\n",
    "recall"
   ]
  },
  {
   "cell_type": "code",
   "execution_count": 46,
   "id": "592adb85",
   "metadata": {},
   "outputs": [
    {
     "data": {
      "image/png": "[encoded data removed]",
      "text/plain": [
       "<Figure size 640x480 with 1 Axes>"
      ]
     },
     "metadata": {},
     "output_type": "display_data"
    }
   ],
   "source": [
    "y_pred_proba = model.predict_proba(X_test_lin)[::,1]\n",
    "TPR, FPR, threshold = roc_curve(y_test, y_pred_proba)\n",
    "plt.plot(TPR, FPR)\n",
    "plt.show()"
   ]
  },
  {
   "cell_type": "code",
   "execution_count": 47,
   "id": "49f1f1f6",
   "metadata": {},
   "outputs": [
    {
     "data": {
      "text/plain": [
       "0.979094684591454"
      ]
     },
     "execution_count": 47,
     "metadata": {},
     "output_type": "execute_result"
    }
   ],
   "source": [
    "roc_auc = roc_auc_score(y_test, y_pred_proba)\n",
    "roc_auc"
   ]
  },
  {
   "cell_type": "markdown",
   "id": "2192d067",
   "metadata": {},
   "source": [
    "Precision значительно увеличился, но уменьшился и Recall, что логично. ROC-AUC тоже возрос. Можно сделать вывод о том, что качество модели значительно улучшилось."
   ]
  },
  {
   "cell_type": "code",
   "execution_count": 48,
   "id": "c25def3f",
   "metadata": {},
   "outputs": [],
   "source": [
    "X_train_lin = X_train_lin.toarray()\n",
    "X_test_lin = X_test_lin.toarray()"
   ]
  },
  {
   "cell_type": "code",
   "execution_count": 49,
   "id": "6890a9be",
   "metadata": {},
   "outputs": [],
   "source": [
    "from math import exp\n",
    "\n",
    "class Logreg:\n",
    "    \n",
    "    @staticmethod\n",
    "    def log_loss(y_true, y_pred):\n",
    "        loss = 0\n",
    "        for i in range(len(y_true)):\n",
    "            y = y_true[i]\n",
    "            pred = y_pred[i]\n",
    "            loss += -y*np.log(pred) - (1 - y)*np.log(1 - pred)\n",
    "        loss /= len(y_true)\n",
    "        return loss\n",
    "    \n",
    "    @staticmethod\n",
    "    def sigmoid(x):\n",
    "        return 1 / (1 + np.exp(-x))\n",
    "    \n",
    "    def __init__(self, lr = 0.01, iters = 2000):\n",
    "        self.lr = lr\n",
    "        self.iters = iters\n",
    "        self.w = None\n",
    "        self.b = None\n",
    "        \n",
    "    def fit(self, X_train, y_train):\n",
    "        samples, features = X_train.shape\n",
    "        self.w = np.zeros(features)\n",
    "        self.b = 0\n",
    "        \n",
    "        for _ in range(self.iters):\n",
    "            logits = np.dot(X_train, self.w) + self.b\n",
    "            preds = self.sigmoid(logits)\n",
    "            \n",
    "            dw = (1 / samples) * np.dot(X_train.T, (preds - y_train))\n",
    "            db = (1 / samples) * np.sum(preds-y_train)\n",
    "            \n",
    "            self.w = self.w - self.lr * dw\n",
    "            self.b = self.b - self.lr * db\n",
    "    \n",
    "    def predict(self, X_test):\n",
    "        logits = np.dot(X_test, self.w) + self.b\n",
    "        preds = self.sigmoid(logits)\n",
    "        classes = np.asarray([0 if y < 0.5 else 1 for y in preds])\n",
    "        return classes\n",
    "    \n",
    "    def predict_proba(self, X_test):\n",
    "        logits = np.dot(X_test, self.w) + self.b\n",
    "        preds = self.sigmoid(logits)\n",
    "        return preds"
   ]
  },
  {
   "cell_type": "code",
   "execution_count": 50,
   "id": "fbb277b7",
   "metadata": {},
   "outputs": [],
   "source": [
    "model_2 = Logreg()\n",
    "model_2.fit(X_train_lin, y_train)\n",
    "y_preds = model.predict(X_test_lin)"
   ]
  },
  {
   "cell_type": "code",
   "execution_count": 51,
   "id": "4147b7d9",
   "metadata": {},
   "outputs": [
    {
     "data": {
      "text/plain": [
       "0.9312751677852349"
      ]
     },
     "execution_count": 51,
     "metadata": {},
     "output_type": "execute_result"
    }
   ],
   "source": [
    "precision = precision_score(y_test, y_preds)\n",
    "precision"
   ]
  },
  {
   "cell_type": "code",
   "execution_count": 52,
   "id": "6f5f2cb4",
   "metadata": {},
   "outputs": [
    {
     "data": {
      "text/plain": [
       "0.9126545645882662"
      ]
     },
     "execution_count": 52,
     "metadata": {},
     "output_type": "execute_result"
    }
   ],
   "source": [
    "recall = recall_score(y_test, y_preds)\n",
    "recall"
   ]
  },
  {
   "cell_type": "code",
   "execution_count": 53,
   "id": "a0659b9a",
   "metadata": {},
   "outputs": [
    {
     "data": {
      "image/png": "[encoded data removed]",
      "text/plain": [
       "<Figure size 640x480 with 1 Axes>"
      ]
     },
     "metadata": {},
     "output_type": "display_data"
    }
   ],
   "source": [
    "y_preds_proba = model_2.predict_proba(X_test_lin)\n",
    "TPR, FPR, threshold = roc_curve(y_test, y_preds_proba)\n",
    "plt.plot(TPR, FPR)\n",
    "plt.show()"
   ]
  },
  {
   "cell_type": "code",
   "execution_count": 54,
   "id": "fa209e75",
   "metadata": {},
   "outputs": [
    {
     "data": {
      "text/plain": [
       "0.9554635711086396"
      ]
     },
     "execution_count": 54,
     "metadata": {},
     "output_type": "execute_result"
    }
   ],
   "source": [
    "roc_auc = roc_auc_score(y_test, y_preds_proba)\n",
    "roc_auc"
   ]
  },
  {
   "cell_type": "markdown",
   "id": "e8a3e876",
   "metadata": {},
   "source": [
    "## Вывод"
   ]
  },
  {
   "cell_type": "markdown",
   "id": "88e72379",
   "metadata": {},
   "source": [
    "В ходе лабораторной я изучил модель логистической регрессии и применил её для взятого мною датасета. Сначала я использовал модель из библиотеки Sci-Kit Learn, затем сам реализовал модель логистической регрессии. Результаты двух моделей оказались практически идентичными, а метрики качества показывают, что данная модель отлично решает поставленную задачу."
   ]
  },
  {
   "cell_type": "markdown",
   "id": "e2f4a369",
   "metadata": {},
   "source": [
    "# Лабораторная 4"
   ]
  },
  {
   "cell_type": "markdown",
   "id": "814de6bd",
   "metadata": {},
   "source": [
    "## Деревья решений и ансамбли\n",
    "\n",
    "Теперь для решения задачи классификации попробуем применить методы, основанные на деревьях решений. Сперва попробуем составить дерево решения, затем используем ансамбли: случайный лес и градиентный бустинг на деревьях."
   ]
  },
  {
   "cell_type": "markdown",
   "id": "47675be4",
   "metadata": {},
   "source": [
    "Ниже приведена реализация решающего дерева. На нашей задаче, т.к. данных слишком много, а признаковое пространство имеет большую размерность, то обучение дерева будет очень долгим. Поэтому продемонстрируем, как работает решающее дерево на игрушечном примере"
   ]
  },
  {
   "cell_type": "code",
   "execution_count": 55,
   "id": "98453cd9",
   "metadata": {},
   "outputs": [],
   "source": [
    "from collections import Counter\n",
    "\n",
    "class Node:\n",
    "    def __init__(self, feature=None, threshold=None, left=None, right=None,*,value=None):\n",
    "        self.feature = feature\n",
    "        self.threshold = threshold\n",
    "        self.left = left\n",
    "        self.right = right\n",
    "        self.value = value\n",
    "        \n",
    "    def is_leaf_node(self):\n",
    "        return self.value is not None\n",
    "\n",
    "\n",
    "class DecisionTree:\n",
    "    def __init__(self, min_samples_split=2, max_depth=100, n_features=None):\n",
    "        self.min_samples_split=min_samples_split\n",
    "        self.max_depth=max_depth\n",
    "        self.n_features=n_features\n",
    "        self.root=None\n",
    "\n",
    "    def fit(self, X, y):\n",
    "        self.n_features = X.shape[1] if not self.n_features else min(X.shape[1],self.n_features)\n",
    "        self.root = self._grow_tree(X, y)\n",
    "\n",
    "    def _grow_tree(self, X, y, depth=0):\n",
    "        n_samples, n_feats = X.shape\n",
    "        n_labels = len(np.unique(y))\n",
    "\n",
    "        if (depth>=self.max_depth or n_labels==1 or n_samples<self.min_samples_split):\n",
    "            leaf_value = self._most_common_label(y)\n",
    "            return Node(value=leaf_value)\n",
    "\n",
    "        feat_idxs = np.random.choice(n_feats, self.n_features, replace=False)\n",
    "\n",
    "        best_feature, best_thresh = self._best_split(X, y, feat_idxs)\n",
    "\n",
    "        left_idxs, right_idxs = self._split(X[:, best_feature], best_thresh)\n",
    "        left = self._grow_tree(X[left_idxs, :], y[left_idxs], depth+1)\n",
    "        right = self._grow_tree(X[right_idxs, :], y[right_idxs], depth+1)\n",
    "        return Node(best_feature, best_thresh, left, right)\n",
    "\n",
    "\n",
    "    def _best_split(self, X, y, feat_idxs):\n",
    "        best_gain = -1\n",
    "        split_idx, split_threshold = None, None\n",
    "\n",
    "        for feat_idx in feat_idxs:\n",
    "            X_column = X[:, feat_idx]\n",
    "            thresholds = np.unique(X_column)\n",
    "\n",
    "            for thr in thresholds:\n",
    "                gain = self._information_gain(y, X_column, thr)\n",
    "\n",
    "                if gain > best_gain:\n",
    "                    best_gain = gain\n",
    "                    split_idx = feat_idx\n",
    "                    split_threshold = thr\n",
    "\n",
    "        return split_idx, split_threshold\n",
    "\n",
    "\n",
    "    def _information_gain(self, y, X_column, threshold):\n",
    "        parent_entropy = self._entropy(y)\n",
    "\n",
    "        left_idxs, right_idxs = self._split(X_column, threshold)\n",
    "\n",
    "        if len(left_idxs) == 0 or len(right_idxs) == 0:\n",
    "            return 0\n",
    "        \n",
    "        n = len(y)\n",
    "        n_l, n_r = len(left_idxs), len(right_idxs)\n",
    "        e_l, e_r = self._entropy(y[left_idxs]), self._entropy(y[right_idxs])\n",
    "        child_entropy = (n_l/n) * e_l + (n_r/n) * e_r\n",
    "\n",
    "        information_gain = parent_entropy - child_entropy\n",
    "        return information_gain\n",
    "\n",
    "    def _split(self, X_column, split_thresh):\n",
    "        left_idxs = np.argwhere(X_column <= split_thresh).flatten()\n",
    "        right_idxs = np.argwhere(X_column > split_thresh).flatten()\n",
    "        return left_idxs, right_idxs\n",
    "\n",
    "    def _entropy(self, y):\n",
    "        hist = np.bincount(y)\n",
    "        ps = hist / len(y)\n",
    "        return -np.sum([p * np.log(p) for p in ps if p>0])\n",
    "\n",
    "\n",
    "    def _most_common_label(self, y):\n",
    "        counter = Counter(y)\n",
    "        value = counter.most_common(1)[0][0]\n",
    "        return value\n",
    "\n",
    "    def predict(self, X):\n",
    "        return np.array([self._traverse_tree(x, self.root) for x in X])\n",
    "\n",
    "    def _traverse_tree(self, x, node):\n",
    "        if node.is_leaf_node():\n",
    "            return node.value\n",
    "\n",
    "        if x[node.feature] <= node.threshold:\n",
    "            return self._traverse_tree(x, node.left)\n",
    "        return self._traverse_tree(x, node.right)"
   ]
  },
  {
   "cell_type": "code",
   "execution_count": 56,
   "id": "1f47b46f",
   "metadata": {},
   "outputs": [],
   "source": [
    "from sklearn.datasets import make_classification\n",
    "from sklearn.model_selection import train_test_split\n",
    "import sys\n",
    "\n",
    "\n",
    "X_mini, y_mini = make_classification(n_samples = 500, \n",
    "                           n_features = 2,\n",
    "                           n_informative = 2, \n",
    "                           n_redundant = 0, \n",
    "                           n_clusters_per_class = 2, \n",
    "                           random_state = 43)\n",
    "X_mini_train, X_mini_test, y_mini_train, y_mini_test = train_test_split(X_mini, y_mini, train_size = 0.8)\n",
    "\n",
    "model_3 = DecisionTree()\n",
    "model_3.fit(X_mini_train, y_mini_train)\n",
    "y_pred = model_3.predict(X_mini_test)"
   ]
  },
  {
   "cell_type": "code",
   "execution_count": 57,
   "id": "79e5fe7a",
   "metadata": {},
   "outputs": [
    {
     "data": {
      "text/plain": [
       "0.9215686274509803"
      ]
     },
     "execution_count": 57,
     "metadata": {},
     "output_type": "execute_result"
    }
   ],
   "source": [
    "precision = precision_score(y_mini_test, y_pred)\n",
    "precision"
   ]
  },
  {
   "cell_type": "code",
   "execution_count": 58,
   "id": "ace11205",
   "metadata": {},
   "outputs": [
    {
     "data": {
      "text/plain": [
       "0.9591836734693877"
      ]
     },
     "execution_count": 58,
     "metadata": {},
     "output_type": "execute_result"
    }
   ],
   "source": [
    "recall = recall_score(y_mini_test, y_pred)\n",
    "recall"
   ]
  },
  {
   "cell_type": "code",
   "execution_count": 59,
   "id": "a62ca435",
   "metadata": {},
   "outputs": [
    {
     "data": {
      "image/png": "[encoded data removed]",
      "text/plain": [
       "<Figure size 640x480 with 1 Axes>"
      ]
     },
     "metadata": {},
     "output_type": "display_data"
    }
   ],
   "source": [
    "TPR, FPR, threshold = roc_curve(y_mini_test, y_pred)\n",
    "plt.plot(TPR, FPR)\n",
    "plt.show()"
   ]
  },
  {
   "cell_type": "code",
   "execution_count": 60,
   "id": "d0ce2110",
   "metadata": {},
   "outputs": [
    {
     "data": {
      "text/plain": [
       "0.9403761504601841"
      ]
     },
     "execution_count": 60,
     "metadata": {},
     "output_type": "execute_result"
    }
   ],
   "source": [
    "roc_auc = roc_auc_score(y_mini_test, y_pred)\n",
    "roc_auc"
   ]
  },
  {
   "cell_type": "markdown",
   "id": "963734ed",
   "metadata": {},
   "source": [
    "Дальше будем использовать класс DecisionTreeClassifier из sci-kit learn, потому что он более оптимизрован. Сложность алгоритма, предложенного мною O(n^2), а в этой библиотеке использована оптимизация, дающая сложность O(n*log(m)). Также там используется prunning"
   ]
  },
  {
   "cell_type": "code",
   "execution_count": 61,
   "id": "d19c8544",
   "metadata": {},
   "outputs": [],
   "source": [
    "from sklearn.tree import DecisionTreeClassifier\n",
    "\n",
    "DTC = DecisionTreeClassifier()\n",
    "DTC.fit(X_train_lin, y_train)\n",
    "y_preds = DTC.predict(X_test_lin)"
   ]
  },
  {
   "cell_type": "code",
   "execution_count": 62,
   "id": "b8d1ccc9",
   "metadata": {},
   "outputs": [
    {
     "data": {
      "text/plain": [
       "0.9402397410097121"
      ]
     },
     "execution_count": 62,
     "metadata": {},
     "output_type": "execute_result"
    }
   ],
   "source": [
    "precision = precision_score(y_test, y_preds)\n",
    "precision"
   ]
  },
  {
   "cell_type": "code",
   "execution_count": 63,
   "id": "d99711f2",
   "metadata": {},
   "outputs": [
    {
     "data": {
      "text/plain": [
       "0.9423835832675612"
      ]
     },
     "execution_count": 63,
     "metadata": {},
     "output_type": "execute_result"
    }
   ],
   "source": [
    "recall = recall_score(y_test, y_preds)\n",
    "recall"
   ]
  },
  {
   "cell_type": "code",
   "execution_count": 64,
   "id": "bc9a3e18",
   "metadata": {},
   "outputs": [
    {
     "data": {
      "image/png": "[encoded data removed]",
      "text/plain": [
       "<Figure size 640x480 with 1 Axes>"
      ]
     },
     "metadata": {},
     "output_type": "display_data"
    }
   ],
   "source": [
    "y_preds_proba = DTC.predict_proba(X_test_lin)[::,1]\n",
    "TPR, FPR, threshold = roc_curve(y_test, y_preds_proba)\n",
    "plt.plot(TPR, FPR)\n",
    "plt.show()"
   ]
  },
  {
   "cell_type": "code",
   "execution_count": 65,
   "id": "3eec67ba",
   "metadata": {},
   "outputs": [
    {
     "data": {
      "text/plain": [
       "0.9477580442928076"
      ]
     },
     "execution_count": 65,
     "metadata": {},
     "output_type": "execute_result"
    }
   ],
   "source": [
    "roc_auc = roc_auc_score(y_test, y_preds)\n",
    "roc_auc"
   ]
  },
  {
   "cell_type": "markdown",
   "id": "ef83f461",
   "metadata": {},
   "source": [
    "Решающее дерево дало неплохие результаты, все метрики улучшились"
   ]
  },
  {
   "cell_type": "markdown",
   "id": "166cc39c",
   "metadata": {},
   "source": [
    "Теперь имплементируем случайный лес:"
   ]
  },
  {
   "cell_type": "code",
   "execution_count": 66,
   "id": "266cd5e0",
   "metadata": {},
   "outputs": [],
   "source": [
    "class RandomForest:\n",
    "    def __init__(self, n_estimators = 20, max_depth = 20, min_samples_split = 2, n_features = None):\n",
    "        self.n_estimators = n_estimators\n",
    "        self.max_depth = max_depth\n",
    "        self.min_samples_split = min_samples_split\n",
    "        self.n_features = n_features\n",
    "        self.trees = []\n",
    "        \n",
    "    def fit(self, X, y):\n",
    "        for _ in range(self.n_estimators):\n",
    "            tree = DecisionTreeClassifier(max_depth = self.max_depth, \n",
    "                                          min_samples_split = self.min_samples_split,\n",
    "                                          splitter = 'random')\n",
    "            X_sample, y_sample = self._bootstraping(X, y)\n",
    "            tree.fit(X_sample, y_sample)\n",
    "            self.trees.append(tree)\n",
    "    @staticmethod\n",
    "    def _bootstraping(X, y):\n",
    "        n_samples = X.shape[0]\n",
    "        idxs = np.random.choice(n_samples, n_samples, replace=True)\n",
    "        return X[idxs], y[idxs]\n",
    "    \n",
    "    @staticmethod\n",
    "    def _most_popular_label(y):\n",
    "        counter = Counter(y)\n",
    "        most_common = counter.most_common(1)[0][0]\n",
    "        return most_common\n",
    "    \n",
    "    def predict(self, X):\n",
    "        predictions = np.array([tree.predict(X) for tree in self.trees])\n",
    "        tree_preds = np.swapaxes(predictions, 0, 1)\n",
    "        predictions = np.array([self._most_popular_label(pred) for pred in tree_preds])\n",
    "        return predictions\n",
    "    "
   ]
  },
  {
   "cell_type": "code",
   "execution_count": 67,
   "id": "5a407876",
   "metadata": {},
   "outputs": [],
   "source": [
    "RF = RandomForest()\n",
    "RF.fit(X_train_lin, y_train)\n",
    "y_preds = RF.predict(X_test_lin)"
   ]
  },
  {
   "cell_type": "code",
   "execution_count": 68,
   "id": "af5f38ca",
   "metadata": {},
   "outputs": [
    {
     "data": {
      "text/plain": [
       "0.9703033046627433"
      ]
     },
     "execution_count": 68,
     "metadata": {},
     "output_type": "execute_result"
    }
   ],
   "source": [
    "precision = precision_score(y_test, y_preds)\n",
    "precision"
   ]
  },
  {
   "cell_type": "code",
   "execution_count": 69,
   "id": "4c01eb66",
   "metadata": {},
   "outputs": [
    {
     "data": {
      "text/plain": [
       "0.939840392879067"
      ]
     },
     "execution_count": 69,
     "metadata": {},
     "output_type": "execute_result"
    }
   ],
   "source": [
    "recall = recall_score(y_test, y_preds)\n",
    "recall"
   ]
  },
  {
   "cell_type": "code",
   "execution_count": 70,
   "id": "f45036fb",
   "metadata": {},
   "outputs": [
    {
     "data": {
      "image/png": "[encoded data removed]",
      "text/plain": [
       "<Figure size 640x480 with 1 Axes>"
      ]
     },
     "metadata": {},
     "output_type": "display_data"
    }
   ],
   "source": [
    "TPR, FPR, threshold = roc_curve(y_test, y_preds)\n",
    "plt.plot(TPR, FPR)\n",
    "plt.show()"
   ]
  },
  {
   "cell_type": "code",
   "execution_count": 71,
   "id": "a8fe2132",
   "metadata": {},
   "outputs": [
    {
     "data": {
      "text/plain": [
       "0.958666508111804"
      ]
     },
     "execution_count": 71,
     "metadata": {},
     "output_type": "execute_result"
    }
   ],
   "source": [
    "roc_auc = roc_auc_score(y_test, y_preds)\n",
    "roc_auc"
   ]
  },
  {
   "cell_type": "markdown",
   "id": "b7b63f74",
   "metadata": {},
   "source": [
    "Ансамблирование улучшило все метрики качества. Теперь попробуем использовать RandomForestClassifier из sci-kit learn"
   ]
  },
  {
   "cell_type": "code",
   "execution_count": 72,
   "id": "cbe2bf15",
   "metadata": {},
   "outputs": [],
   "source": [
    "from sklearn.ensemble import RandomForestClassifier\n",
    "\n",
    "RFC = RandomForestClassifier()\n",
    "RFC.fit(X_train_lin, y_train)\n",
    "y_preds = RFC.predict(X_test_lin)"
   ]
  },
  {
   "cell_type": "code",
   "execution_count": 73,
   "id": "3787620d",
   "metadata": {},
   "outputs": [
    {
     "data": {
      "text/plain": [
       "0.9704553668232743"
      ]
     },
     "execution_count": 73,
     "metadata": {},
     "output_type": "execute_result"
    }
   ],
   "source": [
    "precision = precision_score(y_test, y_preds)\n",
    "precision"
   ]
  },
  {
   "cell_type": "code",
   "execution_count": 74,
   "id": "4793b678",
   "metadata": {},
   "outputs": [
    {
     "data": {
      "text/plain": [
       "0.9419451021660966"
      ]
     },
     "execution_count": 74,
     "metadata": {},
     "output_type": "execute_result"
    }
   ],
   "source": [
    "recall = recall_score(y_test, y_preds)\n",
    "recall"
   ]
  },
  {
   "cell_type": "code",
   "execution_count": 75,
   "id": "8352a027",
   "metadata": {},
   "outputs": [
    {
     "data": {
      "image/png": "[encoded data removed]",
      "text/plain": [
       "<Figure size 640x480 with 1 Axes>"
      ]
     },
     "metadata": {},
     "output_type": "display_data"
    }
   ],
   "source": [
    "TPR, FPR, threshold = roc_curve(y_test, y_preds)\n",
    "plt.plot(TPR, FPR)\n",
    "plt.show()"
   ]
  },
  {
   "cell_type": "code",
   "execution_count": 76,
   "id": "48d3fe70",
   "metadata": {},
   "outputs": [
    {
     "data": {
      "text/plain": [
       "0.9597531727807083"
      ]
     },
     "execution_count": 76,
     "metadata": {},
     "output_type": "execute_result"
    }
   ],
   "source": [
    "roc_auc = roc_auc_score(y_test, y_preds)\n",
    "roc_auc"
   ]
  },
  {
   "cell_type": "markdown",
   "id": "78eecfb2",
   "metadata": {},
   "source": [
    "Метрики показали качество лучше. В дефолтных параметрах sklearn больше деревьев, которые глубже, но при этом из-за того, что всё распараллелено, то скорость обучения леса выше"
   ]
  },
  {
   "cell_type": "markdown",
   "id": "3746c00d",
   "metadata": {},
   "source": [
    "Теперь попробуем градиентный бустинг"
   ]
  },
  {
   "cell_type": "code",
   "execution_count": 77,
   "id": "ec6bc5c5",
   "metadata": {},
   "outputs": [],
   "source": [
    "import numpy as np\n",
    "from sklearn.tree import DecisionTreeRegressor \n",
    "from scipy.optimize import minimize\n",
    "\n",
    "class GradientBoostingMachine():\n",
    "    def __init__(self, n_trees, learning_rate=0.1, max_depth=1):\n",
    "        self.n_trees=n_trees; \n",
    "        self.learning_rate=learning_rate\n",
    "        self.max_depth=max_depth;\n",
    "    \n",
    "    def fit(self, X, y, objective):\n",
    "        self.trees = []\n",
    "        self.base_prediction = self._get_optimal_base_value(y, objective.loss)\n",
    "        current_predictions = self.base_prediction * np.ones(shape=y.shape)\n",
    "        for _ in range(self.n_trees):\n",
    "            pseudo_residuals = objective.negative_gradient(y, current_predictions)\n",
    "            tree = DecisionTreeRegressor(max_depth=self.max_depth)\n",
    "            tree.fit(X, pseudo_residuals)\n",
    "            self._update_terminal_nodes(tree, X, y, current_predictions, objective.loss)\n",
    "            current_predictions += self.learning_rate * tree.predict(X)\n",
    "            self.trees.append(tree)\n",
    "     \n",
    "    def _get_optimal_base_value(self, y, loss):\n",
    "        fun = lambda c: loss(y, c)\n",
    "        c0 = y.mean()\n",
    "        return minimize(fun=fun, x0=c0).x[0]\n",
    "        \n",
    "    def _update_terminal_nodes(self, tree, X, y, current_predictions, loss):\n",
    "        leaf_nodes = np.nonzero(tree.tree_.children_left == -1)[0]\n",
    "        leaf_node_for_each_sample = tree.apply(X)\n",
    "        for leaf in leaf_nodes:\n",
    "            samples_in_this_leaf = np.where(leaf_node_for_each_sample == leaf)[0]\n",
    "            y_in_leaf = y.take(samples_in_this_leaf, axis=0)\n",
    "            preds_in_leaf = current_predictions.take(samples_in_this_leaf, axis=0)\n",
    "            val = self._get_optimal_leaf_value(y_in_leaf, \n",
    "                                               preds_in_leaf,\n",
    "                                               loss)\n",
    "            tree.tree_.value[leaf, 0, 0] = val\n",
    "            \n",
    "    def _get_optimal_leaf_value(self, y, current_predictions, loss):\n",
    "        fun = lambda c: loss(y, current_predictions + c)\n",
    "        c0 = y.mean()\n",
    "        return minimize(fun=fun, x0=c0).x[0]\n",
    "          \n",
    "    def predict(self, X):\n",
    "        return (self.base_prediction \n",
    "                + self.learning_rate \n",
    "                * np.sum([tree.predict(X) for tree in self.trees], axis=0))"
   ]
  },
  {
   "cell_type": "code",
   "execution_count": 78,
   "id": "91bd8bf8",
   "metadata": {},
   "outputs": [],
   "source": [
    "def expit(t):\n",
    "    return np.exp(t) / (1 + np.exp(t))\n",
    "\n",
    "class BinaryCrossEntropyLoss():\n",
    "    \n",
    "    def __init__(self):\n",
    "        self.expit = lambda t: np.exp(t) / (1 + np.exp(t))\n",
    "    \n",
    "    def loss(self, y, preds):\n",
    "        p = self.expit(preds)\n",
    "        return -np.mean(y * np.log(p) + (1 - y) * np.log(1 - p))\n",
    "    \n",
    "    def negative_gradient(self, y, preds):\n",
    "        p = self.expit(preds)\n",
    "        return y / p - (1 - y) / (1 - p)"
   ]
  },
  {
   "cell_type": "code",
   "execution_count": 79,
   "id": "2bd68e44",
   "metadata": {},
   "outputs": [],
   "source": [
    "gbm = GradientBoostingMachine(n_trees=500,\n",
    "                              learning_rate=0.5,\n",
    "                              max_depth=1)\n",
    "gbm.fit(X_train_lin, y_train, BinaryCrossEntropyLoss())\n",
    "pred = expit(gbm.predict(X_test_lin))"
   ]
  },
  {
   "cell_type": "code",
   "execution_count": 80,
   "id": "8d633968",
   "metadata": {},
   "outputs": [
    {
     "data": {
      "text/plain": [
       "array([1., 1., 0., ..., 0., 1., 0.])"
      ]
     },
     "execution_count": 80,
     "metadata": {},
     "output_type": "execute_result"
    }
   ],
   "source": [
    "pred = np.round(pred)\n",
    "pred"
   ]
  },
  {
   "cell_type": "code",
   "execution_count": 81,
   "id": "e8fa14dc",
   "metadata": {},
   "outputs": [
    {
     "data": {
      "text/plain": [
       "0.8805943902224567"
      ]
     },
     "execution_count": 81,
     "metadata": {},
     "output_type": "execute_result"
    }
   ],
   "source": [
    "precision = precision_score(y_test, pred)\n",
    "precision"
   ]
  },
  {
   "cell_type": "code",
   "execution_count": 82,
   "id": "e57fb46b",
   "metadata": {},
   "outputs": [
    {
     "data": {
      "text/plain": [
       "0.8782776462334473"
      ]
     },
     "execution_count": 82,
     "metadata": {},
     "output_type": "execute_result"
    }
   ],
   "source": [
    "recall = recall_score(y_test, pred)\n",
    "recall"
   ]
  },
  {
   "cell_type": "code",
   "execution_count": 83,
   "id": "d06833cd",
   "metadata": {},
   "outputs": [
    {
     "data": {
      "image/png": "[encoded data removed]",
      "text/plain": [
       "<Figure size 640x480 with 1 Axes>"
      ]
     },
     "metadata": {},
     "output_type": "display_data"
    }
   ],
   "source": [
    "TPR, FPR, threshold = roc_curve(y_test, pred)\n",
    "plt.plot(TPR, FPR)\n",
    "plt.show()"
   ]
  },
  {
   "cell_type": "code",
   "execution_count": 84,
   "id": "7bb69063",
   "metadata": {},
   "outputs": [
    {
     "data": {
      "text/plain": [
       "0.892545808637893"
      ]
     },
     "execution_count": 84,
     "metadata": {},
     "output_type": "execute_result"
    }
   ],
   "source": [
    "roc_auc = roc_auc_score(y_test, pred)\n",
    "roc_auc"
   ]
  },
  {
   "cell_type": "markdown",
   "id": "335a59f8",
   "metadata": {},
   "source": [
    "Точность хорошая, но стала хуже по сравнению со случайным лесом. Возможно, это связано с тем, что случайный лес лучше подходит для нашей задачи"
   ]
  },
  {
   "cell_type": "markdown",
   "id": "671faba4",
   "metadata": {},
   "source": [
    "Теперь попробуем XGBoost:"
   ]
  },
  {
   "cell_type": "code",
   "execution_count": 85,
   "id": "f62e9a76",
   "metadata": {},
   "outputs": [
    {
     "name": "stdout",
     "output_type": "stream",
     "text": [
      "Defaulting to user installation because normal site-packages is not writeable\n",
      "Requirement already satisfied: xgboost in c:\\users\\kirill\\appdata\\roaming\\python\\python311\\site-packages (2.0.3)\n",
      "Requirement already satisfied: numpy in c:\\programdata\\anaconda3\\lib\\site-packages (from xgboost) (1.24.3)\n",
      "Requirement already satisfied: scipy in c:\\programdata\\anaconda3\\lib\\site-packages (from xgboost) (1.11.1)\n"
     ]
    }
   ],
   "source": [
    "!pip install xgboost"
   ]
  },
  {
   "cell_type": "code",
   "execution_count": 86,
   "id": "884a09d0",
   "metadata": {},
   "outputs": [],
   "source": [
    "from xgboost import XGBClassifier\n",
    "\n",
    "xgb = XGBClassifier(n_estimators = 1000)\n",
    "xgb.fit(X_train_lin, y_train)\n",
    "preds = xgb.predict(X_test_lin)"
   ]
  },
  {
   "cell_type": "code",
   "execution_count": 87,
   "id": "d3ce3587",
   "metadata": {},
   "outputs": [
    {
     "data": {
      "text/plain": [
       "0.9673366834170855"
      ]
     },
     "execution_count": 87,
     "metadata": {},
     "output_type": "execute_result"
    }
   ],
   "source": [
    "precision = precision_score(y_test, preds)\n",
    "precision"
   ]
  },
  {
   "cell_type": "code",
   "execution_count": 88,
   "id": "86455cae",
   "metadata": {},
   "outputs": [
    {
     "data": {
      "text/plain": [
       "0.94536525475752"
      ]
     },
     "execution_count": 88,
     "metadata": {},
     "output_type": "execute_result"
    }
   ],
   "source": [
    "recall = recall_score(y_test, preds)\n",
    "recall"
   ]
  },
  {
   "cell_type": "code",
   "execution_count": 89,
   "id": "101b22e4",
   "metadata": {},
   "outputs": [
    {
     "data": {
      "image/png": "[encoded data removed]",
      "text/plain": [
       "<Figure size 640x480 with 1 Axes>"
      ]
     },
     "metadata": {},
     "output_type": "display_data"
    }
   ],
   "source": [
    "TPR, FPR, threshold = roc_curve(y_test, preds)\n",
    "plt.plot(TPR, FPR)\n",
    "plt.show()"
   ]
  },
  {
   "cell_type": "code",
   "execution_count": 90,
   "id": "a83182c2",
   "metadata": {},
   "outputs": [
    {
     "data": {
      "text/plain": [
       "0.9601937781370116"
      ]
     },
     "execution_count": 90,
     "metadata": {},
     "output_type": "execute_result"
    }
   ],
   "source": [
    "roc_auc = roc_auc_score(y_test, preds)\n",
    "roc_auc"
   ]
  },
  {
   "cell_type": "markdown",
   "id": "068f66c2",
   "metadata": {},
   "source": [
    "XGBoost показал отличный результат. Также время работы существенно меньше, чем у моей реализации"
   ]
  },
  {
   "cell_type": "markdown",
   "id": "f43f19b1",
   "metadata": {},
   "source": [
    "## Вывод\n",
    "\n",
    "В ходе работы я изучил различные методы решения задач классификации: логистическая регрессия, деревья решений, Random forest и градиентный бустинг. Лучший результат показал градиентный бустинг."
   ]
  }
 ],
 "metadata": {
  "kernelspec": {
   "display_name": "Python 3 (ipykernel)",
   "language": "python",
   "name": "python3"
  },
  "language_info": {
   "codemirror_mode": {
    "name": "ipython",
    "version": 3
   },
   "file_extension": ".py",
   "mimetype": "text/x-python",
   "name": "python",
   "nbconvert_exporter": "python",
   "pygments_lexer": "ipython3",
   "version": "3.11.5"
  }
 },
 "nbformat": 4,
 "nbformat_minor": 5
}
